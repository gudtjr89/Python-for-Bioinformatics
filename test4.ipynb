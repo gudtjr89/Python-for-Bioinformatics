{
  "nbformat": 4,
  "nbformat_minor": 0,
  "metadata": {
    "colab": {
      "provenance": [],
      "authorship_tag": "ABX9TyMrU+Gffu1510roVqOa91+F",
      "include_colab_link": true
    },
    "kernelspec": {
      "name": "python3",
      "display_name": "Python 3"
    },
    "language_info": {
      "name": "python"
    }
  },
  "cells": [
    {
      "cell_type": "markdown",
      "metadata": {
        "id": "view-in-github",
        "colab_type": "text"
      },
      "source": [
        "<a href=\"https://colab.research.google.com/github/gudtjr89/Python-for-Bioinformatics/blob/main/test4.ipynb\" target=\"_parent\"><img src=\"https://colab.research.google.com/assets/colab-badge.svg\" alt=\"Open In Colab\"/></a>"
      ]
    },
    {
      "cell_type": "markdown",
      "source": [
        "# 나의 네 번쨰 파이썬 코드\n",
        "## 코랩에서 작성된 코드\n",
        "### 간단한 사칙연산 출력\n",
        "\n",
        "코렙에서 텍스트 작성방법을 성명하고 있습니다.\n",
        "---\n",
        "\n",
        "\n",
        "1.   항목 추가\n",
        "2.   항목 추가\n",
        "\n"
      ],
      "metadata": {
        "id": "-LbKTXLe9wt7"
      }
    },
    {
      "cell_type": "code",
      "execution_count": 1,
      "metadata": {
        "colab": {
          "base_uri": "https://localhost:8080/"
        },
        "id": "ZyPLHA679eOU",
        "outputId": "e05eefd0-c583-4108-bfe1-55425a7afeb3"
      },
      "outputs": [
        {
          "output_type": "stream",
          "name": "stdout",
          "text": [
            "600\n",
            "-400\n",
            "50000\n",
            "0.2\n"
          ]
        }
      ],
      "source": [
        "print(100+500)\n",
        "print(100-500)\n",
        "print(100*500)\n",
        "print(100/500)"
      ]
    },
    {
      "cell_type": "code",
      "source": [
        "import sys\n",
        "print('나의 네번째 파이썬 코드')\n",
        "print(sys.version)"
      ],
      "metadata": {
        "colab": {
          "base_uri": "https://localhost:8080/"
        },
        "id": "LDhSC79z-044",
        "outputId": "6419d203-953d-4290-8201-311619f4de72"
      },
      "execution_count": 2,
      "outputs": [
        {
          "output_type": "stream",
          "name": "stdout",
          "text": [
            "나의 네번째 파이썬 코드\n",
            "3.10.12 (main, Jun 11 2023, 05:26:28) [GCC 11.4.0]\n"
          ]
        }
      ]
    }
  ]
}