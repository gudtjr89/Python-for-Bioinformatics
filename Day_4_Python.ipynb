{
  "nbformat": 4,
  "nbformat_minor": 0,
  "metadata": {
    "colab": {
      "provenance": [],
      "authorship_tag": "ABX9TyPkebEQVXdjiJEUwYcT4CDE",
      "include_colab_link": true
    },
    "kernelspec": {
      "name": "python3",
      "display_name": "Python 3"
    },
    "language_info": {
      "name": "python"
    }
  },
  "cells": [
    {
      "cell_type": "markdown",
      "metadata": {
        "id": "view-in-github",
        "colab_type": "text"
      },
      "source": [
        "<a href=\"https://colab.research.google.com/github/gudtjr89/Python-for-Bioinformatics/blob/main/Day_4_Python.ipynb\" target=\"_parent\"><img src=\"https://colab.research.google.com/assets/colab-badge.svg\" alt=\"Open In Colab\"/></a>"
      ]
    },
    {
      "cell_type": "code",
      "execution_count": 32,
      "metadata": {
        "id": "kmlnK5K--e4G"
      },
      "outputs": [],
      "source": [
        "import random\n",
        "highscore=100\n"
      ]
    },
    {
      "cell_type": "code",
      "source": [],
      "metadata": {
        "id": "FE5GDEP4C6lr"
      },
      "execution_count": null,
      "outputs": []
    },
    {
      "cell_type": "code",
      "source": [
        "답 = random.randint(1,100)\n",
        "x = 0\n",
        "print('-'*60)\n",
        "print('Let the game begin! Please guess the right number')\n",
        "print('-'*60)\n",
        "while x >= 0:\n",
        "  입력 = input(f'Try {x+1}: Take a guess:')\n",
        "  if 입력 ==  'I and a dirty cheater':\n",
        "    입력 = 답\n",
        "  else :\n",
        "    입력=int(입력)\n",
        "  if 입력 > 답:\n",
        "    x=x+1\n",
        "    print(f'Try {x}: Wrong! (Hint: the number is lower than your guess!)')\n",
        "  if 입력 < 답:\n",
        "    x=x+1\n",
        "    print(f'Try {x}: Wrong! (Hint the number is higher than your guess!)')\n",
        "  if 입력 == 답:\n",
        "    x=x+1\n",
        "    if x < highscore:\n",
        "      highscore = x\n",
        "    print(f'Correct! The answer was {답}, you have won and only took you {x} tries!')\n",
        "    print('-'*60)\n",
        "    print(f'Current high score:{highscore} tries')\n",
        "    print('-'*60)\n",
        "    x=-1\n",
        "\n",
        "\n",
        "\n"
      ],
      "metadata": {
        "colab": {
          "base_uri": "https://localhost:8080/"
        },
        "id": "Tla9jgSN_dVH",
        "outputId": "62dd1893-f555-47b8-8e8a-2c0ce30525b8"
      },
      "execution_count": 44,
      "outputs": [
        {
          "output_type": "stream",
          "name": "stdout",
          "text": [
            "------------------------------------------------------------\n",
            "Let the game begin! Please guess the right number\n",
            "------------------------------------------------------------\n",
            "1Take a guess:I and a dirty cheater\n",
            "Correct! The answer was 4, you have won and only took you 1 tries!\n",
            "------------------------------------------------------------\n",
            "Current high score:1 tries\n",
            "------------------------------------------------------------\n"
          ]
        }
      ]
    },
    {
      "cell_type": "code",
      "source": [
        "hin = int(input (f'Please enter the height of the ball in meters: ')) #공의 시작 위치\n",
        "h = hin # h는 현재 공이 x 번 튕겼을떄  최대 높이\n",
        "x = 0 # x  튕긴 횟수\n",
        "while h >= 0.00001:\n",
        "  x = x+1\n",
        "  h = 0.5* h\n",
        "print(f'A ball dropped at {hin}(m) bounced {x} times before coming to rest')\n"
      ],
      "metadata": {
        "colab": {
          "base_uri": "https://localhost:8080/"
        },
        "id": "uj_13Pp1D1zQ",
        "outputId": "ac9160d5-f9f4-4af9-92ea-a3372c0d6774"
      },
      "execution_count": 54,
      "outputs": [
        {
          "output_type": "stream",
          "name": "stdout",
          "text": [
            "Please enter the height of the ball in meters: 100\n",
            "A ball droped 100(m) bounced 24 times before coming to rest\n"
          ]
        }
      ]
    },
    {
      "cell_type": "code",
      "source": [
        "a=[0,1]\n",
        "print(a)\n",
        "a ="
      ],
      "metadata": {
        "colab": {
          "base_uri": "https://localhost:8080/",
          "height": 146
        },
        "id": "f60IYfqMCNSy",
        "outputId": "cdb3273c-1de4-439d-c29b-4c9ea88bbe5a"
      },
      "execution_count": 55,
      "outputs": [
        {
          "output_type": "error",
          "ename": "SyntaxError",
          "evalue": "ignored",
          "traceback": [
            "\u001b[0;36m  File \u001b[0;32m\"<ipython-input-55-5297b0679109>\"\u001b[0;36m, line \u001b[0;32m3\u001b[0m\n\u001b[0;31m    a =\u001b[0m\n\u001b[0m        ^\u001b[0m\n\u001b[0;31mSyntaxError\u001b[0m\u001b[0;31m:\u001b[0m invalid syntax\n"
          ]
        }
      ]
    },
    {
      "cell_type": "code",
      "source": [
        "## enumerate 함수 ##\n",
        "a = [3,4,6,8,9]\n",
        "six_index = a.index(6)\n",
        "print(f'6이란 인덱스는:{six_index}')\n",
        "for v in a:\n",
        "  print(v)\n",
        "\n",
        "for idx, v in enumerate(a):\n",
        "  print(f'인덱스:{idx} 값:{v}')\n",
        ""
      ],
      "metadata": {
        "colab": {
          "base_uri": "https://localhost:8080/"
        },
        "id": "G2Ym0CsXLcle",
        "outputId": "d8fdc5c9-f9eb-446f-a6cc-68093b79f195"
      },
      "execution_count": 69,
      "outputs": [
        {
          "output_type": "stream",
          "name": "stdout",
          "text": [
            "6이란 인덱스는:2\n",
            "3\n",
            "4\n",
            "6\n",
            "8\n",
            "9\n",
            "인덱스:0 값:3\n",
            "인덱스:1 값:4\n",
            "인덱스:2 값:6\n",
            "인덱스:3 값:8\n",
            "인덱스:4 값:9\n"
          ]
        }
      ]
    },
    {
      "cell_type": "code",
      "source": [
        "test=5\n",
        "a = type(float())\n",
        "print (type(5))\n",
        "print (a)\n",
        "if (type(5))==a:\n",
        "  print('True')\n",
        "else :\n",
        "  print(f'{type}')\n"
      ],
      "metadata": {
        "colab": {
          "base_uri": "https://localhost:8080/"
        },
        "id": "3wCpDvYqPnnL",
        "outputId": "67634d59-9d08-4f5b-87b4-7d85989aa920"
      },
      "execution_count": 88,
      "outputs": [
        {
          "output_type": "stream",
          "name": "stdout",
          "text": [
            "<class 'int'>\n",
            "<class 'int'>\n",
            "True\n"
          ]
        }
      ]
    },
    {
      "cell_type": "code",
      "source": [
        "a = list [5,6,7]\n",
        "b = list[1,2,3,[1,2,3],a]\n",
        "print(b)"
      ],
      "metadata": {
        "colab": {
          "base_uri": "https://localhost:8080/"
        },
        "id": "1ae9vmFZR7Ei",
        "outputId": "2291d2ae-6bb6-4f11-fcf7-7d69243e1d90"
      },
      "execution_count": 89,
      "outputs": [
        {
          "output_type": "stream",
          "name": "stdout",
          "text": [
            "list[1, 2, 3, [1, 2, 3], list[5, 6, 7]]\n"
          ]
        }
      ]
    },
    {
      "cell_type": "code",
      "source": [
        "l1 = [] #list\n",
        "l2 = list() #\n",
        "l3 =list(range(1,11))\n",
        "print(l1,l2,l3)"
      ],
      "metadata": {
        "colab": {
          "base_uri": "https://localhost:8080/"
        },
        "id": "uSimW0nDTKo5",
        "outputId": "c3e5dc85-6ae7-45a8-eb02-d7217a7d3bf7"
      },
      "execution_count": 92,
      "outputs": [
        {
          "output_type": "stream",
          "name": "stdout",
          "text": [
            "[] [] [1, 2, 3, 4, 5, 6, 7, 8, 9, 10]\n"
          ]
        }
      ]
    },
    {
      "cell_type": "code",
      "source": [
        "### 리스트 요소 (element)에 접근하는 방법 ###\n",
        "color = ['red','greeb','blue','black','gold']\n",
        "for idx,i in enumerate(color):\n",
        "  print(f'좋아하는 색깔은?:{idx}:{color[idx]}!')"
      ],
      "metadata": {
        "colab": {
          "base_uri": "https://localhost:8080/"
        },
        "id": "dpclMIE3T2dD",
        "outputId": "1972965c-6c11-4589-cb5a-e057b627f800"
      },
      "execution_count": 109,
      "outputs": [
        {
          "output_type": "stream",
          "name": "stdout",
          "text": [
            "좋아하는 색깔은?:0:red!\n",
            "좋아하는 색깔은?:1:greeb!\n",
            "좋아하는 색깔은?:2:blue!\n",
            "좋아하는 색깔은?:3:black!\n",
            "좋아하는 색깔은?:4:gold!\n"
          ]
        }
      ]
    },
    {
      "cell_type": "code",
      "source": [
        "a=[1,2,3]\n",
        "b=[4,5,6]\n",
        "print(len(a+b),':',a+b)"
      ],
      "metadata": {
        "colab": {
          "base_uri": "https://localhost:8080/"
        },
        "id": "yFCRCxTNVqGi",
        "outputId": "acbbb1cc-c8de-4271-862f-fd9cc8213984"
      },
      "execution_count": 112,
      "outputs": [
        {
          "output_type": "stream",
          "name": "stdout",
          "text": [
            "6 : [1, 2, 3, 4, 5, 6]\n"
          ]
        }
      ]
    },
    {
      "cell_type": "code",
      "source": [
        "#list에 ELement 추가하기 #\n",
        "color = ['red','greeb','blue','black','gold']\n",
        "#맨뒤에 추가하기\n",
        "color.append('silver')\n",
        "print(color)\n",
        "## insert 함수 list : (리스트 이름).insert(위치,값)##\n",
        "color.insert(2,'white')\n",
        "print(color)\n",
        "##리스트에서 요소 삭제하기##\n",
        "r_index = color.index('white')\n",
        "color.remove('red')\n",
        "print(color)\n",
        "color.pop()\n",
        "print(color)\n",
        "##리스트 값 위치로 대체하기##\n",
        "color[2]='green'"
      ],
      "metadata": {
        "colab": {
          "base_uri": "https://localhost:8080/"
        },
        "id": "ELvBIcjjV-Ms",
        "outputId": "a38ddb16-ae74-4c40-b9c1-f827afc5a3e1"
      },
      "execution_count": 131,
      "outputs": [
        {
          "output_type": "stream",
          "name": "stdout",
          "text": [
            "['red', 'greeb', 'blue', 'black', 'gold', 'silver']\n",
            "['red', 'greeb', 'white', 'blue', 'black', 'gold', 'silver']\n",
            "['greeb', 'white', 'blue', 'black', 'gold', 'silver']\n",
            "['greeb', 'white', 'blue', 'black', 'gold']\n"
          ]
        }
      ]
    },
    {
      "cell_type": "code",
      "source": [
        "print(color)\n",
        "color.sort(reverse=True) #역순 정렬\n",
        "color2=sorted(color) #기본함수\n",
        "print(color,color2)"
      ],
      "metadata": {
        "colab": {
          "base_uri": "https://localhost:8080/"
        },
        "id": "8z89UxGGYrL_",
        "outputId": "e2784bd8-9769-4320-e19a-00d125c4e7e8"
      },
      "execution_count": 140,
      "outputs": [
        {
          "output_type": "stream",
          "name": "stdout",
          "text": [
            "['white', 'green', 'greeb', 'gold', 'black']\n",
            "['white', 'green', 'greeb', 'gold', 'black'] ['black', 'gold', 'greeb', 'green', 'white']\n"
          ]
        }
      ]
    },
    {
      "cell_type": "code",
      "source": [
        "import numpy"
      ],
      "metadata": {
        "id": "lw7tAmGTa2Cm"
      },
      "execution_count": 143,
      "outputs": []
    },
    {
      "cell_type": "code",
      "source": [
        "d3data=[[[1,2,3],[$,2,3],[1,2,3]],\n",
        "        [[1,2,3],[1,2,3],[1,2,3]],\n",
        "        [[1,2,3],[1,2,3],[1,2,3]]]\n",
        "print(d3data)\n",
        "print(len(d3data))\n",
        "print(len(d3data[0]))\n"
      ],
      "metadata": {
        "colab": {
          "base_uri": "https://localhost:8080/",
          "height": 146
        },
        "id": "fy0pgpEEbGLa",
        "outputId": "4b579173-6c40-4085-bdbe-16c8d7d2aac2"
      },
      "execution_count": 157,
      "outputs": [
        {
          "output_type": "error",
          "ename": "SyntaxError",
          "evalue": "ignored",
          "traceback": [
            "\u001b[0;36m  File \u001b[0;32m\"<ipython-input-157-65de634f8a73>\"\u001b[0;36m, line \u001b[0;32m1\u001b[0m\n\u001b[0;31m    d3data=[[[1,2,3],[$,2,3],[1,2,3]],\u001b[0m\n\u001b[0m                      ^\u001b[0m\n\u001b[0;31mSyntaxError\u001b[0m\u001b[0;31m:\u001b[0m invalid syntax\n"
          ]
        }
      ]
    },
    {
      "cell_type": "code",
      "source": [
        "numbers = [[1,2,3],\n",
        "           [4,5,[6,7,8]],\n",
        "           9,\n",
        "           10]\n",
        "print(numbers)\n",
        "print(len(numbers))\n",
        "print(len(numbers[0]))\n",
        "print(len(numbers[1]))\n",
        "print((numbers[0][1]))\n",
        "print(numbers[1][1][0:])"
      ],
      "metadata": {
        "colab": {
          "base_uri": "https://localhost:8080/",
          "height": 309
        },
        "id": "ge1_N8AWcsT5",
        "outputId": "bef35974-6f1c-4acd-e0d7-316a6cc99f1e"
      },
      "execution_count": 167,
      "outputs": [
        {
          "output_type": "stream",
          "name": "stdout",
          "text": [
            "[[1, 2, 3], [4, 5, [6, 7, 8]], 9, 10]\n",
            "4\n",
            "3\n",
            "3\n",
            "2\n"
          ]
        },
        {
          "output_type": "error",
          "ename": "TypeError",
          "evalue": "ignored",
          "traceback": [
            "\u001b[0;31m---------------------------------------------------------------------------\u001b[0m",
            "\u001b[0;31mTypeError\u001b[0m                                 Traceback (most recent call last)",
            "\u001b[0;32m<ipython-input-167-4e7a14043648>\u001b[0m in \u001b[0;36m<cell line: 10>\u001b[0;34m()\u001b[0m\n\u001b[1;32m      8\u001b[0m \u001b[0mprint\u001b[0m\u001b[0;34m(\u001b[0m\u001b[0mlen\u001b[0m\u001b[0;34m(\u001b[0m\u001b[0mnumbers\u001b[0m\u001b[0;34m[\u001b[0m\u001b[0;36m1\u001b[0m\u001b[0;34m]\u001b[0m\u001b[0;34m)\u001b[0m\u001b[0;34m)\u001b[0m\u001b[0;34m\u001b[0m\u001b[0;34m\u001b[0m\u001b[0m\n\u001b[1;32m      9\u001b[0m \u001b[0mprint\u001b[0m\u001b[0;34m(\u001b[0m\u001b[0;34m(\u001b[0m\u001b[0mnumbers\u001b[0m\u001b[0;34m[\u001b[0m\u001b[0;36m0\u001b[0m\u001b[0;34m]\u001b[0m\u001b[0;34m[\u001b[0m\u001b[0;36m1\u001b[0m\u001b[0;34m]\u001b[0m\u001b[0;34m)\u001b[0m\u001b[0;34m)\u001b[0m\u001b[0;34m\u001b[0m\u001b[0;34m\u001b[0m\u001b[0m\n\u001b[0;32m---> 10\u001b[0;31m \u001b[0mprint\u001b[0m\u001b[0;34m(\u001b[0m\u001b[0mnumbers\u001b[0m\u001b[0;34m[\u001b[0m\u001b[0;36m1\u001b[0m\u001b[0;34m]\u001b[0m\u001b[0;34m[\u001b[0m\u001b[0;36m1\u001b[0m\u001b[0;34m]\u001b[0m\u001b[0;34m[\u001b[0m\u001b[0;36m0\u001b[0m\u001b[0;34m:\u001b[0m\u001b[0;34m]\u001b[0m\u001b[0;34m)\u001b[0m\u001b[0;34m\u001b[0m\u001b[0;34m\u001b[0m\u001b[0m\n\u001b[0m",
            "\u001b[0;31mTypeError\u001b[0m: 'int' object is not subscriptable"
          ]
        }
      ]
    },
    {
      "cell_type": "code",
      "source": [
        "#1~12 2차원\n",
        "d2l=[[]for list in range(3)]\n",
        "for y in range (3):\n",
        "  for x in range(5):\n",
        "    d2l[y].insert((x),f'{4*y+x+1:>3}')\n",
        "print(d2l)"
      ],
      "metadata": {
        "colab": {
          "base_uri": "https://localhost:8080/"
        },
        "id": "sPw5w_QadjB9",
        "outputId": "eead18f2-f39c-4b5b-879b-57f70246abd0"
      },
      "execution_count": 206,
      "outputs": [
        {
          "output_type": "stream",
          "name": "stdout",
          "text": [
            "[['  1', '  2', '  3', '  4', '  5'], ['  5', '  6', '  7', '  8', '  9'], ['  9', ' 10', ' 11', ' 12', ' 13']]\n"
          ]
        }
      ]
    },
    {
      "cell_type": "code",
      "source": [
        "lst=(list(range(10)))\n",
        "print(lst)\n",
        "lst=[[]for y in range(3)]\n",
        "print(lst)\n"
      ],
      "metadata": {
        "colab": {
          "base_uri": "https://localhost:8080/"
        },
        "id": "dP07v_0BdxdT",
        "outputId": "31bc762e-45a1-410f-d507-436ce34c416a"
      },
      "execution_count": 192,
      "outputs": [
        {
          "output_type": "stream",
          "name": "stdout",
          "text": [
            "[0, 1, 2]\n",
            "[[], [], []]\n"
          ]
        }
      ]
    },
    {
      "cell_type": "code",
      "source": [
        "lst=[]\n",
        "xc = int(input('x축의 범위를 입력해주세요: '))\n",
        "yc = int(input('y축의 범위를 입력해주세요: '))\n",
        "zc = int(input('z축의 범위를 입력해주세요: '))\n",
        "for z in range(zc):\n",
        "  lst.append([])\n",
        "  print('z-------------')\n",
        "  for y in range(yc):\n",
        "    lst.append(lst[z])\n",
        "    print('y-------------')\n",
        "    for x in range(xc):\n",
        "      lst[z].append(lst[y])\n",
        "      print('x-------------')\n",
        "      print(lst)\n",
        "      # lst[z][y]= x+1 * y+1 * z+1\n",
        "print()\n",
        "print(lst)\n"
      ],
      "metadata": {
        "colab": {
          "base_uri": "https://localhost:8080/",
          "height": 406
        },
        "id": "SFULjJhBdwDY",
        "outputId": "adcaf2ff-f038-4fdf-ad5e-14b4fbd80dec"
      },
      "execution_count": 222,
      "outputs": [
        {
          "output_type": "error",
          "ename": "KeyboardInterrupt",
          "evalue": "ignored",
          "traceback": [
            "\u001b[0;31m---------------------------------------------------------------------------\u001b[0m",
            "\u001b[0;31mKeyboardInterrupt\u001b[0m                         Traceback (most recent call last)",
            "\u001b[0;32m<ipython-input-222-783642ec25a6>\u001b[0m in \u001b[0;36m<cell line: 2>\u001b[0;34m()\u001b[0m\n\u001b[1;32m      1\u001b[0m \u001b[0mlst\u001b[0m\u001b[0;34m=\u001b[0m\u001b[0;34m[\u001b[0m\u001b[0;34m]\u001b[0m\u001b[0;34m\u001b[0m\u001b[0;34m\u001b[0m\u001b[0m\n\u001b[0;32m----> 2\u001b[0;31m \u001b[0mxc\u001b[0m \u001b[0;34m=\u001b[0m \u001b[0mint\u001b[0m\u001b[0;34m(\u001b[0m\u001b[0minput\u001b[0m\u001b[0;34m(\u001b[0m\u001b[0;34m'x축의 범위를 입력해주세요: '\u001b[0m\u001b[0;34m)\u001b[0m\u001b[0;34m)\u001b[0m\u001b[0;34m\u001b[0m\u001b[0;34m\u001b[0m\u001b[0m\n\u001b[0m\u001b[1;32m      3\u001b[0m \u001b[0myc\u001b[0m \u001b[0;34m=\u001b[0m \u001b[0mint\u001b[0m\u001b[0;34m(\u001b[0m\u001b[0minput\u001b[0m\u001b[0;34m(\u001b[0m\u001b[0;34m'y축의 범위를 입력해주세요: '\u001b[0m\u001b[0;34m)\u001b[0m\u001b[0;34m)\u001b[0m\u001b[0;34m\u001b[0m\u001b[0;34m\u001b[0m\u001b[0m\n\u001b[1;32m      4\u001b[0m \u001b[0mzc\u001b[0m \u001b[0;34m=\u001b[0m \u001b[0mint\u001b[0m\u001b[0;34m(\u001b[0m\u001b[0minput\u001b[0m\u001b[0;34m(\u001b[0m\u001b[0;34m'z축의 범위를 입력해주세요: '\u001b[0m\u001b[0;34m)\u001b[0m\u001b[0;34m)\u001b[0m\u001b[0;34m\u001b[0m\u001b[0;34m\u001b[0m\u001b[0m\n\u001b[1;32m      5\u001b[0m \u001b[0;32mfor\u001b[0m \u001b[0mz\u001b[0m \u001b[0;32min\u001b[0m \u001b[0mrange\u001b[0m\u001b[0;34m(\u001b[0m\u001b[0mzc\u001b[0m\u001b[0;34m)\u001b[0m\u001b[0;34m:\u001b[0m\u001b[0;34m\u001b[0m\u001b[0;34m\u001b[0m\u001b[0m\n",
            "\u001b[0;32m/usr/local/lib/python3.10/dist-packages/ipykernel/kernelbase.py\u001b[0m in \u001b[0;36mraw_input\u001b[0;34m(self, prompt)\u001b[0m\n\u001b[1;32m    849\u001b[0m                 \u001b[0;34m\"raw_input was called, but this frontend does not support input requests.\"\u001b[0m\u001b[0;34m\u001b[0m\u001b[0;34m\u001b[0m\u001b[0m\n\u001b[1;32m    850\u001b[0m             )\n\u001b[0;32m--> 851\u001b[0;31m         return self._input_request(str(prompt),\n\u001b[0m\u001b[1;32m    852\u001b[0m             \u001b[0mself\u001b[0m\u001b[0;34m.\u001b[0m\u001b[0m_parent_ident\u001b[0m\u001b[0;34m,\u001b[0m\u001b[0;34m\u001b[0m\u001b[0;34m\u001b[0m\u001b[0m\n\u001b[1;32m    853\u001b[0m             \u001b[0mself\u001b[0m\u001b[0;34m.\u001b[0m\u001b[0m_parent_header\u001b[0m\u001b[0;34m,\u001b[0m\u001b[0;34m\u001b[0m\u001b[0;34m\u001b[0m\u001b[0m\n",
            "\u001b[0;32m/usr/local/lib/python3.10/dist-packages/ipykernel/kernelbase.py\u001b[0m in \u001b[0;36m_input_request\u001b[0;34m(self, prompt, ident, parent, password)\u001b[0m\n\u001b[1;32m    893\u001b[0m             \u001b[0;32mexcept\u001b[0m \u001b[0mKeyboardInterrupt\u001b[0m\u001b[0;34m:\u001b[0m\u001b[0;34m\u001b[0m\u001b[0;34m\u001b[0m\u001b[0m\n\u001b[1;32m    894\u001b[0m                 \u001b[0;31m# re-raise KeyboardInterrupt, to truncate traceback\u001b[0m\u001b[0;34m\u001b[0m\u001b[0;34m\u001b[0m\u001b[0m\n\u001b[0;32m--> 895\u001b[0;31m                 \u001b[0;32mraise\u001b[0m \u001b[0mKeyboardInterrupt\u001b[0m\u001b[0;34m(\u001b[0m\u001b[0;34m\"Interrupted by user\"\u001b[0m\u001b[0;34m)\u001b[0m \u001b[0;32mfrom\u001b[0m \u001b[0;32mNone\u001b[0m\u001b[0;34m\u001b[0m\u001b[0;34m\u001b[0m\u001b[0m\n\u001b[0m\u001b[1;32m    896\u001b[0m             \u001b[0;32mexcept\u001b[0m \u001b[0mException\u001b[0m \u001b[0;32mas\u001b[0m \u001b[0me\u001b[0m\u001b[0;34m:\u001b[0m\u001b[0;34m\u001b[0m\u001b[0;34m\u001b[0m\u001b[0m\n\u001b[1;32m    897\u001b[0m                 \u001b[0mself\u001b[0m\u001b[0;34m.\u001b[0m\u001b[0mlog\u001b[0m\u001b[0;34m.\u001b[0m\u001b[0mwarning\u001b[0m\u001b[0;34m(\u001b[0m\u001b[0;34m\"Invalid Message:\"\u001b[0m\u001b[0;34m,\u001b[0m \u001b[0mexc_info\u001b[0m\u001b[0;34m=\u001b[0m\u001b[0;32mTrue\u001b[0m\u001b[0;34m)\u001b[0m\u001b[0;34m\u001b[0m\u001b[0;34m\u001b[0m\u001b[0m\n",
            "\u001b[0;31mKeyboardInterrupt\u001b[0m: Interrupted by user"
          ]
        }
      ]
    },
    {
      "cell_type": "code",
      "source": [],
      "metadata": {
        "id": "_NueesgSmJE7"
      },
      "execution_count": null,
      "outputs": []
    },
    {
      "cell_type": "code",
      "source": [
        "1"
      ],
      "metadata": {
        "id": "T9FtQpn_lupH"
      },
      "execution_count": null,
      "outputs": []
    },
    {
      "cell_type": "code",
      "source": [],
      "metadata": {
        "id": "3jVpko5ukYyp"
      },
      "execution_count": null,
      "outputs": []
    },
    {
      "cell_type": "code",
      "source": [],
      "metadata": {
        "id": "ppiPi72pc5sL"
      },
      "execution_count": null,
      "outputs": []
    }
  ]
}