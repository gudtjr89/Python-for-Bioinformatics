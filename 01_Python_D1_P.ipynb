{
  "nbformat": 4,
  "nbformat_minor": 0,
  "metadata": {
    "colab": {
      "provenance": [],
      "toc_visible": true,
      "authorship_tag": "ABX9TyMUS2uUXyDgWdDrHbSMV8j2",
      "include_colab_link": true
    },
    "kernelspec": {
      "name": "python3",
      "display_name": "Python 3"
    },
    "language_info": {
      "name": "python"
    }
  },
  "cells": [
    {
      "cell_type": "markdown",
      "metadata": {
        "id": "view-in-github",
        "colab_type": "text"
      },
      "source": [
        "<a href=\"https://colab.research.google.com/github/gudtjr89/Python-for-Bioinformatics/blob/main/01_Python_D1_P.ipynb\" target=\"_parent\"><img src=\"https://colab.research.google.com/assets/colab-badge.svg\" alt=\"Open In Colab\"/></a>"
      ]
    },
    {
      "cell_type": "markdown",
      "source": [
        "##파이썬 자료형"
      ],
      "metadata": {
        "id": "NfgM1rene04K"
      }
    },
    {
      "cell_type": "code",
      "execution_count": 9,
      "metadata": {
        "colab": {
          "base_uri": "https://localhost:8080/"
        },
        "id": "fzsfMrT-dWmP",
        "outputId": "c703c6d6-bf5c-47e2-f3ac-3aa4d1dc305a"
      },
      "outputs": [
        {
          "output_type": "stream",
          "name": "stdout",
          "text": [
            "<class 'int'>\n",
            "<class 'float'>\n",
            "<class 'int'>\n",
            "<class 'str'>\n"
          ]
        }
      ],
      "source": [
        "# 데이터 형태 확인해주는 함수: type()\n",
        "# 화면에 출력해주는 함수 : print()\n",
        "print(type(100))\n",
        "print(type(100.0))\n",
        "print(type(-100))\n",
        "print(type('파이썬'))"
      ]
    },
    {
      "cell_type": "code",
      "source": [
        "a = 100\n",
        "b = 50\n",
        "c = '파이썬'\n",
        "print(a+b)\n",
        "print(c)\n",
        "형석 =  1000\n",
        "print(형석)"
      ],
      "metadata": {
        "colab": {
          "base_uri": "https://localhost:8080/"
        },
        "id": "h760nv4KgBmI",
        "outputId": "444eeff3-65f9-40a9-abbb-4878645afd57"
      },
      "execution_count": 12,
      "outputs": [
        {
          "output_type": "stream",
          "name": "stdout",
          "text": [
            "150\n",
            "파이썬\n",
            "1000\n"
          ]
        }
      ]
    },
    {
      "cell_type": "code",
      "source": [
        "사과 = '수박'\n",
        "print(사과)"
      ],
      "metadata": {
        "colab": {
          "base_uri": "https://localhost:8080/"
        },
        "id": "-EFPejmzgwcP",
        "outputId": "bccd1ff1-36c0-41cd-a349-8d44518e59cd"
      },
      "execution_count": 13,
      "outputs": [
        {
          "output_type": "stream",
          "name": "stdout",
          "text": [
            "수박\n"
          ]
        }
      ]
    },
    {
      "cell_type": "code",
      "source": [
        "pi = 3.14\n",
        "b = 314\n",
        "print(int(pi))\n",
        "print(float(b))"
      ],
      "metadata": {
        "colab": {
          "base_uri": "https://localhost:8080/"
        },
        "id": "NKeQJGtAhg3z",
        "outputId": "c0c7dbb2-50cb-4333-bc35-910e39c31fe7"
      },
      "execution_count": 18,
      "outputs": [
        {
          "output_type": "stream",
          "name": "stdout",
          "text": [
            "3\n",
            "314.0\n"
          ]
        }
      ]
    },
    {
      "cell_type": "code",
      "source": [
        "cmn=''\n",
        "for x in range(1, 1001):\n",
        "    cmn = cmn + str(x)\n",
        "d = cmn.count('7')\n",
        "print(d)\n",
        "\n",
        "Greeting_msg = 'Another Good day, I\\'m happy to see you1'\n",
        "print(Greeting_msg)"
      ],
      "metadata": {
        "colab": {
          "base_uri": "https://localhost:8080/"
        },
        "id": "157G7BizhFwh",
        "outputId": "08b7230c-6f6c-45f3-d2ca-4b5bfe0e00a6"
      },
      "execution_count": 42,
      "outputs": [
        {
          "output_type": "stream",
          "name": "stdout",
          "text": [
            "300\n",
            "Another Good day, I'm happy to see you1\n"
          ]
        }
      ]
    },
    {
      "cell_type": "code",
      "source": [
        "### 문자열 형\n",
        "# +: 문자열을 붙여서 표현한다.\n",
        "# ,: 문자열은 띄워씌기 하나 포함한다\n",
        "print('오늘은' + '파이썬 첫쨰날')\n",
        "print('오늘은' , '파이썬 첫쨰날')\n",
        "# * : 문자열을 반복한다.\n",
        "print('_' * 50)\n",
        "a = True\n",
        "print(a)\n",
        "print(type(a))\n",
        "b = False\n",
        "print(b)\n",
        "print(type(b))\n",
        "print(b+2)\n",
        "print(a+2)\n"
      ],
      "metadata": {
        "colab": {
          "base_uri": "https://localhost:8080/"
        },
        "id": "mzMZ_x9kpOo7",
        "outputId": "eeb77377-b26d-4375-c351-1718f624b606"
      },
      "execution_count": 54,
      "outputs": [
        {
          "output_type": "stream",
          "name": "stdout",
          "text": [
            "오늘은파이썬 첫쨰날\n",
            "오늘은 파이썬 첫쨰날\n",
            "__________________________________________________\n",
            "True\n",
            "<class 'bool'>\n",
            "False\n",
            "<class 'bool'>\n",
            "2\n",
            "3\n"
          ]
        }
      ]
    },
    {
      "cell_type": "code",
      "source": [
        "a = 100\n",
        "b = 200\n",
        "print (a >b)"
      ],
      "metadata": {
        "colab": {
          "base_uri": "https://localhost:8080/"
        },
        "id": "NLWQ0G2zq_4d",
        "outputId": "52a5dd9e-9c6b-42f4-d0c0-3aad4d777dc8"
      },
      "execution_count": 59,
      "outputs": [
        {
          "output_type": "stream",
          "name": "stdout",
          "text": [
            "False\n"
          ]
        }
      ]
    },
    {
      "cell_type": "code",
      "source": [
        "num1 = input('첫번쨰 숫자:')\n",
        "int(num1)"
      ],
      "metadata": {
        "colab": {
          "base_uri": "https://localhost:8080/",
          "height": 219
        },
        "id": "JGrPFxyhrmbS",
        "outputId": "2ca9a432-f853-4037-b633-65106aae9b75"
      },
      "execution_count": 64,
      "outputs": [
        {
          "name": "stdout",
          "output_type": "stream",
          "text": [
            "첫번쨰 숫자:\n"
          ]
        },
        {
          "output_type": "error",
          "ename": "ValueError",
          "evalue": "ignored",
          "traceback": [
            "\u001b[0;31m---------------------------------------------------------------------------\u001b[0m",
            "\u001b[0;31mValueError\u001b[0m                                Traceback (most recent call last)",
            "\u001b[0;32m<ipython-input-64-e2d018be0f6b>\u001b[0m in \u001b[0;36m<cell line: 2>\u001b[0;34m()\u001b[0m\n\u001b[1;32m      1\u001b[0m \u001b[0mnum1\u001b[0m \u001b[0;34m=\u001b[0m \u001b[0minput\u001b[0m\u001b[0;34m(\u001b[0m\u001b[0;34m'첫번쨰 숫자:'\u001b[0m\u001b[0;34m)\u001b[0m\u001b[0;34m\u001b[0m\u001b[0;34m\u001b[0m\u001b[0m\n\u001b[0;32m----> 2\u001b[0;31m \u001b[0mint\u001b[0m\u001b[0;34m(\u001b[0m\u001b[0mnum1\u001b[0m\u001b[0;34m)\u001b[0m\u001b[0;34m\u001b[0m\u001b[0;34m\u001b[0m\u001b[0m\n\u001b[0m",
            "\u001b[0;31mValueError\u001b[0m: invalid literal for int() with base 10: ''"
          ]
        }
      ]
    },
    {
      "cell_type": "code",
      "source": [
        "#파이썬으로  사칙연산하기 프로그램\n",
        "a= int(input('a값을 입력해세요:'))\n",
        "print('a의 값은:' , a, type(a))"
      ],
      "metadata": {
        "colab": {
          "base_uri": "https://localhost:8080/"
        },
        "id": "4xmKSlklstNC",
        "outputId": "ad79a9c8-54ac-428d-c778-01119977bc2a"
      },
      "execution_count": 74,
      "outputs": [
        {
          "output_type": "stream",
          "name": "stdout",
          "text": [
            "a값을 입력해세요:1000\n",
            "a의 값은: 1000 <class 'int'>\n"
          ]
        }
      ]
    },
    {
      "cell_type": "code",
      "source": [
        "num1=int(input('첫번쨰 숫자를 입력 해주세요:' , ))\n",
        "print('num1:',num1)\n",
        "num2=int(input('두번쨰 숫자를 입력 해주세요:' , ))\n",
        "print('num2:',num2)\n",
        "print('-'*30)\n",
        "print('덧셈: %d + %d = %d' % (num1, num2, num1+num2))\n",
        "print('뺄셈: %d - %d = %d' % (num1, num2, num1-num2))\n",
        "print('곱셈: %d * %d = %d' % (num1, num2, num1*num2))\n",
        "print('나누기: %d / %d = %d' % (num1, num2, num1/num2))"
      ],
      "metadata": {
        "colab": {
          "base_uri": "https://localhost:8080/"
        },
        "id": "khzNbMOSuZ5q",
        "outputId": "4df77476-0a14-47e2-8570-7ecd2aa70a5c"
      },
      "execution_count": 84,
      "outputs": [
        {
          "output_type": "stream",
          "name": "stdout",
          "text": [
            "첫번쨰 숫자를 입력 해주세요:200\n",
            "num1: 200\n",
            "두번쨰 숫자를 입력 해주세요:30\n",
            "num2: 30\n",
            "------------------------------\n",
            "덧셈: 200 + 30 = 230\n",
            "뺄셈: 200 - 30 = 170\n",
            "곱셈: 200 * 30 = 6000\n",
            "나누기: 200 / 30 = 6\n"
          ]
        }
      ]
    },
    {
      "cell_type": "code",
      "source": [
        "num1=int(input('첫번쨰 숫자를 입력 해주세요:' , ))\n",
        "num2=int(input('두번쨰 숫자를 입력 해주세요:' , ))\n",
        "print('-'*30)\n",
        "print(f'덧셈: {num1} + {num2} = {num1+num2}')\n",
        "print(f'빼기: {num1} - {num2} = {num1-num2}')\n",
        "print(f'곱셈: {num1} * {num2:>3} = {num1*num2}')\n",
        "print(f'나누기: {num1} / {num2:0>3} = {num1/num2}')"
      ],
      "metadata": {
        "colab": {
          "base_uri": "https://localhost:8080/"
        },
        "id": "SBHXxz1ls8id",
        "outputId": "92c38d5f-379a-46bc-f607-2914b93743f9"
      },
      "execution_count": 91,
      "outputs": [
        {
          "output_type": "stream",
          "name": "stdout",
          "text": [
            "첫번쨰 숫자를 입력 해주세요:200\n",
            "두번쨰 숫자를 입력 해주세요:30\n",
            "------------------------------\n",
            "덧셈: 200 + 30 = 230\n",
            "빼기: 200 - 30 = 170\n",
            "곱셈: 200 *  30 = 6000\n",
            "나누기: 200 / 030 = 6.666666666666667\n"
          ]
        }
      ]
    },
    {
      "cell_type": "code",
      "source": [
        "속도 = float(input('속도를 입력 해주세요(m/s):' , ))\n",
        "거리 = float(input('거리를 입력해주세요(m):' , ))\n",
        "print(f'속도: {속도}m/s')\n",
        "print(f'거리: {거리}m')\n",
        "print(f'시간 = {거리}m / {속도}m/s = {거리/속도}s')"
      ],
      "metadata": {
        "colab": {
          "base_uri": "https://localhost:8080/"
        },
        "id": "iZ8tMnrMylop",
        "outputId": "c69014b1-f4f5-4a72-8e7d-7f147ac10401"
      },
      "execution_count": 98,
      "outputs": [
        {
          "output_type": "stream",
          "name": "stdout",
          "text": [
            "속도를 입력 해주세요(m/s):1000\n",
            "거리를 입력해주세요(m):5000\n",
            "속도: 1000.0m/s\n",
            "거리: 5000.0m\n",
            "시간 = 5000.0m / 1000.0ms = 5.0s\n"
          ]
        }
      ]
    },
    {
      "cell_type": "code",
      "source": [
        "#f-string을 사용하는 방법\n",
        "name = input('이름을 입력해주세요:', )\n",
        "age = input('나이를 입렵해주세요:')\n"
      ],
      "metadata": {
        "id": "zXEzSc-h3oTJ"
      },
      "execution_count": null,
      "outputs": []
    },
    {
      "cell_type": "code",
      "source": [],
      "metadata": {
        "id": "_EwokCR94Brg"
      },
      "execution_count": null,
      "outputs": []
    },
    {
      "cell_type": "code",
      "source": [
        "a=input('하나의 정수를 입력해주세요:')\n",
        "aa=int(a*2)\n",
        "aaa=int(a*3)\n",
        "a=int(a)\n",
        "\n",
        "print(f'a + aa + aaa = {a} + {aa} + {aaa}= {a+aa+aaa}')"
      ],
      "metadata": {
        "colab": {
          "base_uri": "https://localhost:8080/"
        },
        "id": "B9d-12h235kG",
        "outputId": "848c3c87-d6f9-4f81-b36c-ae3a276f4991"
      },
      "execution_count": 106,
      "outputs": [
        {
          "output_type": "stream",
          "name": "stdout",
          "text": [
            "하나의 정수를 입력해주세요:7\n",
            "7 77 777\n",
            "a + aa + aaa = 7 + 77 + 777= 861\n"
          ]
        }
      ]
    },
    {
      "cell_type": "code",
      "source": [
        "a=input('하나의 정수를 입력해주세요:')\n",
        "print(f'{a}+{a*2}+{a*3} = {int(a)+int(a+a)+int(a+a+a)}')"
      ],
      "metadata": {
        "colab": {
          "base_uri": "https://localhost:8080/",
          "height": 219
        },
        "id": "G4VW2Etc5ggb",
        "outputId": "6b7aa8e5-7bab-40c3-f1d3-4b143f85cee8"
      },
      "execution_count": 110,
      "outputs": [
        {
          "name": "stdout",
          "output_type": "stream",
          "text": [
            "하나의 정수를 입력해주세요:7\n"
          ]
        },
        {
          "output_type": "error",
          "ename": "TypeError",
          "evalue": "ignored",
          "traceback": [
            "\u001b[0;31m---------------------------------------------------------------------------\u001b[0m",
            "\u001b[0;31mTypeError\u001b[0m                                 Traceback (most recent call last)",
            "\u001b[0;32m<ipython-input-110-71714411a5b0>\u001b[0m in \u001b[0;36m<cell line: 2>\u001b[0;34m()\u001b[0m\n\u001b[1;32m      1\u001b[0m \u001b[0ma\u001b[0m\u001b[0;34m=\u001b[0m\u001b[0minput\u001b[0m\u001b[0;34m(\u001b[0m\u001b[0;34m'하나의 정수를 입력해주세요:'\u001b[0m\u001b[0;34m)\u001b[0m\u001b[0;34m\u001b[0m\u001b[0;34m\u001b[0m\u001b[0m\n\u001b[0;32m----> 2\u001b[0;31m \u001b[0mprint\u001b[0m\u001b[0;34m(\u001b[0m\u001b[0;34mf'{a}+{a*2}+{a*3} = {int(a)+int(a+a)+int(a+a+a)}'\u001b[0m\u001b[0;34m)\u001b[0m\u001b[0;34m\u001b[0m\u001b[0;34m\u001b[0m\u001b[0m\n\u001b[0m",
            "\u001b[0;31mTypeError\u001b[0m: 'str' object is not callable"
          ]
        }
      ]
    },
    {
      "cell_type": "code",
      "source": [
        " #eval() : 문자열을 숫자처럼 계산해준다\n",
        " #ex: eval('3+'4)\n",
        " a = input('정수를 입력해주세요: ')\n",
        " result = f'{a}+{a+a}+{a+a+a}'\n",
        " print(f'{result}')\n"
      ],
      "metadata": {
        "colab": {
          "base_uri": "https://localhost:8080/",
          "height": 237
        },
        "id": "sTbcbytz8BYt",
        "outputId": "83522792-763d-4f6b-b267-e111ea3eb452"
      },
      "execution_count": 117,
      "outputs": [
        {
          "name": "stdout",
          "output_type": "stream",
          "text": [
            "정수를 입력해주세요: 7\n"
          ]
        },
        {
          "output_type": "error",
          "ename": "TypeError",
          "evalue": "ignored",
          "traceback": [
            "\u001b[0;31m---------------------------------------------------------------------------\u001b[0m",
            "\u001b[0;31mTypeError\u001b[0m                                 Traceback (most recent call last)",
            "\u001b[0;32m<ipython-input-117-07afa1077332>\u001b[0m in \u001b[0;36m<cell line: 5>\u001b[0;34m()\u001b[0m\n\u001b[1;32m      3\u001b[0m \u001b[0ma\u001b[0m \u001b[0;34m=\u001b[0m \u001b[0minput\u001b[0m\u001b[0;34m(\u001b[0m\u001b[0;34m'정수를 입력해주세요: '\u001b[0m\u001b[0;34m)\u001b[0m\u001b[0;34m\u001b[0m\u001b[0;34m\u001b[0m\u001b[0m\n\u001b[1;32m      4\u001b[0m \u001b[0mresult\u001b[0m \u001b[0;34m=\u001b[0m \u001b[0;34mf'{a}+{a+a}+{a+a+a}'\u001b[0m\u001b[0;34m\u001b[0m\u001b[0;34m\u001b[0m\u001b[0m\n\u001b[0;32m----> 5\u001b[0;31m \u001b[0mprint\u001b[0m\u001b[0;34m(\u001b[0m\u001b[0;34mf'{result}'\u001b[0m\u001b[0;34m)\u001b[0m\u001b[0;34m\u001b[0m\u001b[0;34m\u001b[0m\u001b[0m\n\u001b[0m",
            "\u001b[0;31mTypeError\u001b[0m: 'str' object is not callable"
          ]
        }
      ]
    },
    {
      "cell_type": "markdown",
      "source": [
        "###데이터를 어떤 형태로 나타내야하는지 정확하게 알아야 하므로 f-string외에도 알아 둘것"
      ],
      "metadata": {
        "id": "25U7QV1hsv19"
      }
    }
  ]
}